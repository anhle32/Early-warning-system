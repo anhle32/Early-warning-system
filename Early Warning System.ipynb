{
 "cells": [
  {
   "cell_type": "code",
   "execution_count": 1,
   "id": "c28cb020",
   "metadata": {},
   "outputs": [],
   "source": [
    "import pandas as pd\n",
    "import numpy as np\n",
    "import matplotlib.pyplot as plt\n",
    "import seaborn as sns"
   ]
  },
  {
   "cell_type": "code",
   "execution_count": 29,
   "id": "e8af990e",
   "metadata": {},
   "outputs": [],
   "source": [
    "import warnings\n",
    "warnings.filterwarnings(\"ignore\")"
   ]
  },
  {
   "cell_type": "code",
   "execution_count": 4,
   "id": "48f1b33a",
   "metadata": {},
   "outputs": [],
   "source": [
    "df=pd.read_csv('IMF_DATA_FINAL.csv')"
   ]
  },
  {
   "cell_type": "code",
   "execution_count": 5,
   "id": "37921829",
   "metadata": {},
   "outputs": [
    {
     "data": {
      "text/html": [
       "<div>\n",
       "<style scoped>\n",
       "    .dataframe tbody tr th:only-of-type {\n",
       "        vertical-align: middle;\n",
       "    }\n",
       "\n",
       "    .dataframe tbody tr th {\n",
       "        vertical-align: top;\n",
       "    }\n",
       "\n",
       "    .dataframe thead th {\n",
       "        text-align: right;\n",
       "    }\n",
       "</style>\n",
       "<table border=\"1\" class=\"dataframe\">\n",
       "  <thead>\n",
       "    <tr style=\"text-align: right;\">\n",
       "      <th></th>\n",
       "      <th>country</th>\n",
       "      <th>Country id</th>\n",
       "      <th>Date</th>\n",
       "      <th>CRISIS</th>\n",
       "      <th>CAB_Y</th>\n",
       "      <th>EXP_G</th>\n",
       "      <th>STED_R</th>\n",
       "      <th>FXR_G</th>\n",
       "      <th>REER</th>\n",
       "      <th>CRISIS_1</th>\n",
       "    </tr>\n",
       "  </thead>\n",
       "  <tbody>\n",
       "    <tr>\n",
       "      <th>0</th>\n",
       "      <td>Vietnam</td>\n",
       "      <td>1</td>\n",
       "      <td>1996Q4 [YR1996Q4]</td>\n",
       "      <td>0</td>\n",
       "      <td>-8.192243</td>\n",
       "      <td>-0.034018</td>\n",
       "      <td>56.512545</td>\n",
       "      <td>0.311416</td>\n",
       "      <td>-3.239270</td>\n",
       "      <td>0</td>\n",
       "    </tr>\n",
       "    <tr>\n",
       "      <th>1</th>\n",
       "      <td>Vietnam</td>\n",
       "      <td>1</td>\n",
       "      <td>1997Q1 [YR1997Q1]</td>\n",
       "      <td>0</td>\n",
       "      <td>-7.567235</td>\n",
       "      <td>0.017876</td>\n",
       "      <td>0.000000</td>\n",
       "      <td>0.154322</td>\n",
       "      <td>-1.729341</td>\n",
       "      <td>0</td>\n",
       "    </tr>\n",
       "    <tr>\n",
       "      <th>2</th>\n",
       "      <td>Vietnam</td>\n",
       "      <td>1</td>\n",
       "      <td>1997Q2 [YR1997Q2]</td>\n",
       "      <td>0</td>\n",
       "      <td>-6.942227</td>\n",
       "      <td>-0.050835</td>\n",
       "      <td>43.500938</td>\n",
       "      <td>0.239375</td>\n",
       "      <td>-3.785391</td>\n",
       "      <td>0</td>\n",
       "    </tr>\n",
       "    <tr>\n",
       "      <th>3</th>\n",
       "      <td>Vietnam</td>\n",
       "      <td>1</td>\n",
       "      <td>1997Q3 [YR1997Q3]</td>\n",
       "      <td>0</td>\n",
       "      <td>-6.317219</td>\n",
       "      <td>0.066105</td>\n",
       "      <td>0.000000</td>\n",
       "      <td>0.261656</td>\n",
       "      <td>2.282539</td>\n",
       "      <td>0</td>\n",
       "    </tr>\n",
       "    <tr>\n",
       "      <th>4</th>\n",
       "      <td>Vietnam</td>\n",
       "      <td>1</td>\n",
       "      <td>1997Q4 [YR1997Q4]</td>\n",
       "      <td>0</td>\n",
       "      <td>-5.692211</td>\n",
       "      <td>0.000267</td>\n",
       "      <td>49.902958</td>\n",
       "      <td>0.143993</td>\n",
       "      <td>7.228432</td>\n",
       "      <td>0</td>\n",
       "    </tr>\n",
       "  </tbody>\n",
       "</table>\n",
       "</div>"
      ],
      "text/plain": [
       "   country  Country id               Date  CRISIS     CAB_Y     EXP_G  \\\n",
       "0  Vietnam           1  1996Q4 [YR1996Q4]       0 -8.192243 -0.034018   \n",
       "1  Vietnam           1  1997Q1 [YR1997Q1]       0 -7.567235  0.017876   \n",
       "2  Vietnam           1  1997Q2 [YR1997Q2]       0 -6.942227 -0.050835   \n",
       "3  Vietnam           1  1997Q3 [YR1997Q3]       0 -6.317219  0.066105   \n",
       "4  Vietnam           1  1997Q4 [YR1997Q4]       0 -5.692211  0.000267   \n",
       "\n",
       "      STED_R     FXR_G      REER  CRISIS_1  \n",
       "0  56.512545  0.311416 -3.239270         0  \n",
       "1   0.000000  0.154322 -1.729341         0  \n",
       "2  43.500938  0.239375 -3.785391         0  \n",
       "3   0.000000  0.261656  2.282539         0  \n",
       "4  49.902958  0.143993  7.228432         0  "
      ]
     },
     "execution_count": 5,
     "metadata": {},
     "output_type": "execute_result"
    }
   ],
   "source": [
    "df.head()"
   ]
  },
  {
   "cell_type": "code",
   "execution_count": 34,
   "id": "d19894ab",
   "metadata": {},
   "outputs": [
    {
     "data": {
      "text/html": [
       "<div>\n",
       "<style scoped>\n",
       "    .dataframe tbody tr th:only-of-type {\n",
       "        vertical-align: middle;\n",
       "    }\n",
       "\n",
       "    .dataframe tbody tr th {\n",
       "        vertical-align: top;\n",
       "    }\n",
       "\n",
       "    .dataframe thead th {\n",
       "        text-align: right;\n",
       "    }\n",
       "</style>\n",
       "<table border=\"1\" class=\"dataframe\">\n",
       "  <thead>\n",
       "    <tr style=\"text-align: right;\">\n",
       "      <th></th>\n",
       "      <th>country</th>\n",
       "      <th>Country id</th>\n",
       "      <th>Date</th>\n",
       "      <th>CRISIS</th>\n",
       "      <th>CAB_Y</th>\n",
       "      <th>EXP_G</th>\n",
       "      <th>STED_R</th>\n",
       "      <th>FXR_G</th>\n",
       "      <th>REER</th>\n",
       "      <th>CRISIS_1</th>\n",
       "    </tr>\n",
       "  </thead>\n",
       "  <tbody>\n",
       "    <tr>\n",
       "      <th>702</th>\n",
       "      <td>Indonesia</td>\n",
       "      <td>7</td>\n",
       "      <td>2020Q4 [YR2020Q4]</td>\n",
       "      <td>0</td>\n",
       "      <td>-0.418751</td>\n",
       "      <td>0.162518</td>\n",
       "      <td>47.572808</td>\n",
       "      <td>0.046271</td>\n",
       "      <td>-0.642848</td>\n",
       "      <td>0</td>\n",
       "    </tr>\n",
       "    <tr>\n",
       "      <th>703</th>\n",
       "      <td>Indonesia</td>\n",
       "      <td>7</td>\n",
       "      <td>2021Q1 [YR2021Q1]</td>\n",
       "      <td>0</td>\n",
       "      <td>-0.241757</td>\n",
       "      <td>0.647946</td>\n",
       "      <td>46.764614</td>\n",
       "      <td>0.136684</td>\n",
       "      <td>-1.408117</td>\n",
       "      <td>0</td>\n",
       "    </tr>\n",
       "    <tr>\n",
       "      <th>704</th>\n",
       "      <td>Indonesia</td>\n",
       "      <td>7</td>\n",
       "      <td>2021Q2 [YR2021Q2]</td>\n",
       "      <td>0</td>\n",
       "      <td>-0.064763</td>\n",
       "      <td>0.534240</td>\n",
       "      <td>46.894671</td>\n",
       "      <td>0.042584</td>\n",
       "      <td>-2.083977</td>\n",
       "      <td>0</td>\n",
       "    </tr>\n",
       "    <tr>\n",
       "      <th>705</th>\n",
       "      <td>Indonesia</td>\n",
       "      <td>7</td>\n",
       "      <td>2021Q3 [YR2021Q3]</td>\n",
       "      <td>0</td>\n",
       "      <td>0.112231</td>\n",
       "      <td>0.518651</td>\n",
       "      <td>42.583503</td>\n",
       "      <td>0.092785</td>\n",
       "      <td>-0.249324</td>\n",
       "      <td>0</td>\n",
       "    </tr>\n",
       "    <tr>\n",
       "      <th>706</th>\n",
       "      <td>Indonesia</td>\n",
       "      <td>7</td>\n",
       "      <td>2021Q4 [YR2021Q4]</td>\n",
       "      <td>0</td>\n",
       "      <td>0.289224</td>\n",
       "      <td>0.381223</td>\n",
       "      <td>41.263278</td>\n",
       "      <td>0.069935</td>\n",
       "      <td>0.896908</td>\n",
       "      <td>0</td>\n",
       "    </tr>\n",
       "  </tbody>\n",
       "</table>\n",
       "</div>"
      ],
      "text/plain": [
       "       country  Country id               Date  CRISIS     CAB_Y     EXP_G  \\\n",
       "702  Indonesia           7  2020Q4 [YR2020Q4]       0 -0.418751  0.162518   \n",
       "703  Indonesia           7  2021Q1 [YR2021Q1]       0 -0.241757  0.647946   \n",
       "704  Indonesia           7  2021Q2 [YR2021Q2]       0 -0.064763  0.534240   \n",
       "705  Indonesia           7  2021Q3 [YR2021Q3]       0  0.112231  0.518651   \n",
       "706  Indonesia           7  2021Q4 [YR2021Q4]       0  0.289224  0.381223   \n",
       "\n",
       "        STED_R     FXR_G      REER  CRISIS_1  \n",
       "702  47.572808  0.046271 -0.642848         0  \n",
       "703  46.764614  0.136684 -1.408117         0  \n",
       "704  46.894671  0.042584 -2.083977         0  \n",
       "705  42.583503  0.092785 -0.249324         0  \n",
       "706  41.263278  0.069935  0.896908         0  "
      ]
     },
     "execution_count": 34,
     "metadata": {},
     "output_type": "execute_result"
    }
   ],
   "source": [
    "df.tail()"
   ]
  },
  {
   "cell_type": "code",
   "execution_count": 6,
   "id": "d9b91114",
   "metadata": {},
   "outputs": [
    {
     "data": {
      "text/plain": [
       "0    645\n",
       "1     62\n",
       "Name: CRISIS_1, dtype: int64"
      ]
     },
     "execution_count": 6,
     "metadata": {},
     "output_type": "execute_result"
    }
   ],
   "source": [
    "df['CRISIS_1'].value_counts()"
   ]
  },
  {
   "cell_type": "code",
   "execution_count": 7,
   "id": "331082fa",
   "metadata": {},
   "outputs": [],
   "source": [
    "X = df[['CAB_Y', 'EXP_G','STED_R','FXR_G','REER']]\n",
    "y = df['CRISIS_1']"
   ]
  },
  {
   "cell_type": "code",
   "execution_count": 8,
   "id": "11b6c4d0",
   "metadata": {},
   "outputs": [],
   "source": [
    "from sklearn.model_selection import train_test_split\n",
    "X_train, X_test, y_train, y_test=train_test_split(X,y,test_size=0.2,random_state=11)"
   ]
  },
  {
   "cell_type": "code",
   "execution_count": 9,
   "id": "0c2c092e",
   "metadata": {},
   "outputs": [
    {
     "data": {
      "text/plain": [
       "LogisticRegression()"
      ]
     },
     "execution_count": 9,
     "metadata": {},
     "output_type": "execute_result"
    }
   ],
   "source": [
    "from sklearn.linear_model import LogisticRegression\n",
    "model1=LogisticRegression()\n",
    "model1.fit(X_train,y_train)"
   ]
  },
  {
   "cell_type": "code",
   "execution_count": 14,
   "id": "1f62853c",
   "metadata": {},
   "outputs": [],
   "source": [
    "yhat1_train=model1.predict(X_train)\n",
    "yhat1_test=model1.predict(X_test)"
   ]
  },
  {
   "cell_type": "code",
   "execution_count": 11,
   "id": "76b47de8",
   "metadata": {},
   "outputs": [
    {
     "name": "stdout",
     "output_type": "stream",
     "text": [
      "Accuracy_in-sample performance:  0.9203539823008849\n"
     ]
    },
    {
     "data": {
      "image/png": "[encoded data removed]",
      "text/plain": [
       "<Figure size 432x288 with 2 Axes>"
      ]
     },
     "metadata": {
      "needs_background": "light"
     },
     "output_type": "display_data"
    }
   ],
   "source": [
    "from sklearn import metrics\n",
    "confusion_matrix = pd.crosstab(y_train, yhat1_train, rownames=['Actual'], colnames=['Predicted'])\n",
    "sns.heatmap(confusion_matrix, annot=True)\n",
    "print('Accuracy_in-sample performance: ',metrics.accuracy_score(y_train, yhat1_train))\n",
    "plt.show()"
   ]
  },
  {
   "cell_type": "code",
   "execution_count": 16,
   "id": "6aeb90eb",
   "metadata": {},
   "outputs": [
    {
     "name": "stdout",
     "output_type": "stream",
     "text": [
      "Accuracy_out-sample performance: 0.8802816901408451\n"
     ]
    },
    {
     "data": {
      "image/png": "[encoded data removed]",
      "text/plain": [
       "<Figure size 432x288 with 2 Axes>"
      ]
     },
     "metadata": {
      "needs_background": "light"
     },
     "output_type": "display_data"
    }
   ],
   "source": [
    "from sklearn import metrics\n",
    "confusion_matrix = pd.crosstab(y_test, yhat1_test, rownames=['Actual'], colnames=['Predicted'])\n",
    "sns.heatmap(confusion_matrix, annot=True)\n",
    "print('Accuracy_out-sample performance:',metrics.accuracy_score(y_test, yhat1_test))\n",
    "plt.show()"
   ]
  },
  {
   "cell_type": "code",
   "execution_count": 17,
   "id": "89497bfe",
   "metadata": {},
   "outputs": [
    {
     "data": {
      "text/plain": [
       "DecisionTreeClassifier()"
      ]
     },
     "execution_count": 17,
     "metadata": {},
     "output_type": "execute_result"
    }
   ],
   "source": [
    "from sklearn.tree import DecisionTreeClassifier\n",
    "model2 = DecisionTreeClassifier()\n",
    "model2.fit(X_train,y_train)"
   ]
  },
  {
   "cell_type": "code",
   "execution_count": 18,
   "id": "db345222",
   "metadata": {},
   "outputs": [],
   "source": [
    "yhat2_train=model2.predict(X_train)\n",
    "yhat2_test=model2.predict(X_test)"
   ]
  },
  {
   "cell_type": "code",
   "execution_count": 19,
   "id": "a07fe2f8",
   "metadata": {},
   "outputs": [
    {
     "name": "stdout",
     "output_type": "stream",
     "text": [
      "Accuracy_in-sample performance:  1.0\n"
     ]
    },
    {
     "data": {
      "image/png": "[encoded data removed]",
      "text/plain": [
       "<Figure size 432x288 with 2 Axes>"
      ]
     },
     "metadata": {
      "needs_background": "light"
     },
     "output_type": "display_data"
    }
   ],
   "source": [
    "from sklearn import metrics\n",
    "confusion_matrix = pd.crosstab(y_train, yhat2_train, rownames=['Actual'], colnames=['Predicted'])\n",
    "sns.heatmap(confusion_matrix, annot=True)\n",
    "print('Accuracy_in-sample performance: ',metrics.accuracy_score(y_train, yhat2_train))\n",
    "plt.show()"
   ]
  },
  {
   "cell_type": "code",
   "execution_count": 20,
   "id": "18aece3f",
   "metadata": {},
   "outputs": [
    {
     "name": "stdout",
     "output_type": "stream",
     "text": [
      "Accuracy_out-sample performance: 0.795774647887324\n"
     ]
    },
    {
     "data": {
      "image/png": "[encoded data removed]",
      "text/plain": [
       "<Figure size 432x288 with 2 Axes>"
      ]
     },
     "metadata": {
      "needs_background": "light"
     },
     "output_type": "display_data"
    }
   ],
   "source": [
    "from sklearn import metrics\n",
    "confusion_matrix = pd.crosstab(y_test, yhat2_test, rownames=['Actual'], colnames=['Predicted'])\n",
    "sns.heatmap(confusion_matrix, annot=True)\n",
    "print('Accuracy_out-sample performance:',metrics.accuracy_score(y_test, yhat2_test))\n",
    "plt.show()"
   ]
  },
  {
   "cell_type": "code",
   "execution_count": 21,
   "id": "4057c781",
   "metadata": {},
   "outputs": [
    {
     "data": {
      "text/plain": [
       "RandomForestClassifier()"
      ]
     },
     "execution_count": 21,
     "metadata": {},
     "output_type": "execute_result"
    }
   ],
   "source": [
    "from sklearn.ensemble import RandomForestClassifier\n",
    "model3 = RandomForestClassifier(n_estimators = 100)\n",
    "model3.fit(X_train,y_train)"
   ]
  },
  {
   "cell_type": "code",
   "execution_count": 22,
   "id": "a54c7b0f",
   "metadata": {},
   "outputs": [],
   "source": [
    "yhat3_train=model3.predict(X_train)\n",
    "yhat3_test=model3.predict(X_test)"
   ]
  },
  {
   "cell_type": "code",
   "execution_count": 23,
   "id": "4a29ce73",
   "metadata": {},
   "outputs": [
    {
     "name": "stdout",
     "output_type": "stream",
     "text": [
      "Accuracy_in-sample performance:  1.0\n"
     ]
    },
    {
     "data": {
      "image/png": "[encoded data removed]",
      "text/plain": [
       "<Figure size 432x288 with 2 Axes>"
      ]
     },
     "metadata": {
      "needs_background": "light"
     },
     "output_type": "display_data"
    }
   ],
   "source": [
    "from sklearn import metrics\n",
    "confusion_matrix = pd.crosstab(y_train, yhat3_train, rownames=['Actual'], colnames=['Predicted'])\n",
    "sns.heatmap(confusion_matrix, annot=True)\n",
    "print('Accuracy_in-sample performance: ',metrics.accuracy_score(y_train, yhat3_train))\n",
    "plt.show()"
   ]
  },
  {
   "cell_type": "code",
   "execution_count": 24,
   "id": "d903ff07",
   "metadata": {},
   "outputs": [
    {
     "name": "stdout",
     "output_type": "stream",
     "text": [
      "Accuracy_out-sample performance: 0.8661971830985915\n"
     ]
    },
    {
     "data": {
      "image/png": "[encoded data removed]",
      "text/plain": [
       "<Figure size 432x288 with 2 Axes>"
      ]
     },
     "metadata": {
      "needs_background": "light"
     },
     "output_type": "display_data"
    }
   ],
   "source": [
    "from sklearn import metrics\n",
    "confusion_matrix = pd.crosstab(y_test, yhat3_test, rownames=['Actual'], colnames=['Predicted'])\n",
    "sns.heatmap(confusion_matrix, annot=True)\n",
    "print('Accuracy_out-sample performance:',metrics.accuracy_score(y_test, yhat3_test))\n",
    "plt.show()"
   ]
  },
  {
   "cell_type": "code",
   "execution_count": 26,
   "id": "f9ed7492",
   "metadata": {},
   "outputs": [
    {
     "name": "stdout",
     "output_type": "stream",
     "text": [
      "1. Logit model\n",
      "- Accuracy_in-sample performance:  0.9203539823008849\n",
      "- Accuracy_out-sample performance: 0.8802816901408451\n",
      "2. Decision Tree model\n",
      "- Accuracy_in-sample performance:  1.0\n",
      "- Accuracy_out-sample performance: 0.795774647887324\n",
      "3. Random Forest model\n",
      "- Accuracy_in-sample performance:  1.0\n",
      "- Accuracy_out-sample performance: 0.8661971830985915\n"
     ]
    }
   ],
   "source": [
    "print('1. Logit model')\n",
    "print('- Accuracy_in-sample performance: ',metrics.accuracy_score(y_train, yhat1_train))\n",
    "print('- Accuracy_out-sample performance:',metrics.accuracy_score(y_test, yhat1_test))\n",
    "print('2. Decision Tree model')\n",
    "print('- Accuracy_in-sample performance: ',metrics.accuracy_score(y_train, yhat2_train))\n",
    "print('- Accuracy_out-sample performance:',metrics.accuracy_score(y_test, yhat2_test))\n",
    "print('3. Random Forest model')\n",
    "print('- Accuracy_in-sample performance: ',metrics.accuracy_score(y_train, yhat3_train))\n",
    "print('- Accuracy_out-sample performance:',metrics.accuracy_score(y_test, yhat3_test))"
   ]
  },
  {
   "cell_type": "code",
   "execution_count": null,
   "id": "5677d291",
   "metadata": {},
   "outputs": [],
   "source": [
    "#FXR_G: the annual growth rate in foreign exchange reserves\n",
    "#STED_R: the ratio between short-term external debt and reserves\n",
    "#CAB_Y: the current account balance as a percentage of GDP\n",
    "#REER: a measure of real effective exchange rate misalignment (HP-filtered)\n",
    "#EXP_G: the annual growth rates of exports"
   ]
  },
  {
   "cell_type": "code",
   "execution_count": 37,
   "id": "3505dc19",
   "metadata": {},
   "outputs": [
    {
     "name": "stdout",
     "output_type": "stream",
     "text": [
      "The annual growth rate in foreign exchange reserves: 9\n",
      "The ratio between short-term external debt and reserves0\n",
      "The current account balance as a percentage of GDP0\n",
      "The real effective exchange rate misalignment0\n",
      "The annual growth rates of exports0\n",
      "No crisis warning for the country!\n"
     ]
    }
   ],
   "source": [
    "FXR_G = float(input(\"The annual growth rate in foreign exchange reserves: \"))\n",
    "STED_R = float(input(\"The ratio between short-term external debt and reserves\"))\n",
    "CAB_Y = float(input(\"The current account balance as a percentage of GDP\"))\n",
    "REER = float(input(\"The real effective exchange rate misalignment\"))\n",
    "EXP_G = float(input(\"The annual growth rates of exports\"))\n",
    "X_predict = [[CAB_Y,EXP_G,STED_R,FXR_G,REER]]\n",
    "crisis_predict = model3.predict(X_predict)\n",
    "if crisis_predict == 0:\n",
    "  print(\"No crisis warning for the country!\")\n",
    "else:\n",
    "  print(\"Crisis warning for the country!\")"
   ]
  },
  {
   "cell_type": "code",
   "execution_count": null,
   "id": "e0b71675",
   "metadata": {},
   "outputs": [],
   "source": []
  }
 ],
 "metadata": {
  "kernelspec": {
   "display_name": "Python 3 (ipykernel)",
   "language": "python",
   "name": "python3"
  },
  "language_info": {
   "codemirror_mode": {
    "name": "ipython",
    "version": 3
   },
   "file_extension": ".py",
   "mimetype": "text/x-python",
   "name": "python",
   "nbconvert_exporter": "python",
   "pygments_lexer": "ipython3",
   "version": "3.9.0"
  }
 },
 "nbformat": 4,
 "nbformat_minor": 5
}
